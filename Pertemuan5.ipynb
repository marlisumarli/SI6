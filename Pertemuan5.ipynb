{
 "metadata": {
  "kernelspec": {
   "name": "python3",
   "language": "python",
   "display_name": "Python 3 (ipykernel)"
  },
  "language_info": {
   "codemirror_mode": {
    "name": "python",
    "version": 3
   },
   "file_extension": ".py",
   "mimetype": "text/x-python",
   "name": "python",
   "nbconvert_exporter": "python",
   "pygments_lexer": "ipython3",
   "version": "3.8"
  }
 },
 "nbformat_minor": 4,
 "nbformat": 4,
 "cells": [
  {
   "cell_type": "code",
   "source": "print('nama saya Aldo')",
   "metadata": {
    "trusted": true,
    "ExecuteTime": {
     "end_time": "2024-03-15T12:28:24.569796Z",
     "start_time": "2024-03-15T12:28:24.567232Z"
    }
   },
   "outputs": [
    {
     "name": "stdout",
     "output_type": "stream",
     "text": [
      "nama saya Aldo\n"
     ]
    }
   ],
   "execution_count": 1
  },
  {
   "cell_type": "code",
   "source": "print(\"Hello\\nWorld!\")",
   "metadata": {
    "trusted": true,
    "ExecuteTime": {
     "end_time": "2024-03-15T12:28:24.572709Z",
     "start_time": "2024-03-15T12:28:24.570575Z"
    }
   },
   "outputs": [
    {
     "name": "stdout",
     "output_type": "stream",
     "text": [
      "Hello\n",
      "World!\n"
     ]
    }
   ],
   "execution_count": 2
  },
  {
   "cell_type": "code",
   "source": "# print('Hello World!')",
   "metadata": {
    "trusted": true,
    "ExecuteTime": {
     "end_time": "2024-03-15T12:28:24.575287Z",
     "start_time": "2024-03-15T12:28:24.573990Z"
    }
   },
   "outputs": [],
   "execution_count": 3
  },
  {
   "cell_type": "code",
   "source": "type(int(1.0))",
   "metadata": {
    "trusted": true,
    "ExecuteTime": {
     "end_time": "2024-03-15T12:28:24.578763Z",
     "start_time": "2024-03-15T12:28:24.576088Z"
    }
   },
   "outputs": [
    {
     "data": {
      "text/plain": "int"
     },
     "execution_count": 4,
     "metadata": {},
     "output_type": "execute_result"
    }
   ],
   "execution_count": 4
  },
  {
   "cell_type": "code",
   "source": "bool(1)",
   "metadata": {
    "trusted": true,
    "ExecuteTime": {
     "end_time": "2024-03-15T12:28:24.580839Z",
     "start_time": "2024-03-15T12:28:24.579252Z"
    }
   },
   "outputs": [
    {
     "data": {
      "text/plain": "True"
     },
     "execution_count": 5,
     "metadata": {},
     "output_type": "execute_result"
    }
   ],
   "execution_count": 5
  },
  {
   "cell_type": "code",
   "source": "Numbers = \"0123456\"",
   "metadata": {
    "trusted": true,
    "ExecuteTime": {
     "end_time": "2024-03-15T12:28:24.584047Z",
     "start_time": "2024-03-15T12:28:24.581234Z"
    }
   },
   "outputs": [],
   "execution_count": 6
  },
  {
   "cell_type": "code",
   "source": "print(Numbers)",
   "metadata": {
    "trusted": true,
    "ExecuteTime": {
     "end_time": "2024-03-15T12:28:24.586028Z",
     "start_time": "2024-03-15T12:28:24.584507Z"
    }
   },
   "outputs": [
    {
     "name": "stdout",
     "output_type": "stream",
     "text": [
      "0123456\n"
     ]
    }
   ],
   "execution_count": 7
  },
  {
   "cell_type": "code",
   "source": "Numbers[::3]",
   "metadata": {
    "trusted": true,
    "ExecuteTime": {
     "end_time": "2024-03-15T12:28:24.588150Z",
     "start_time": "2024-03-15T12:28:24.586475Z"
    }
   },
   "outputs": [
    {
     "data": {
      "text/plain": "'036'"
     },
     "execution_count": 8,
     "metadata": {},
     "output_type": "execute_result"
    }
   ],
   "execution_count": 8
  },
  {
   "cell_type": "code",
   "source": "Numbers[::2]",
   "metadata": {
    "trusted": true,
    "ExecuteTime": {
     "end_time": "2024-03-15T12:28:24.589891Z",
     "start_time": "2024-03-15T12:28:24.588575Z"
    }
   },
   "outputs": [
    {
     "data": {
      "text/plain": "'0246'"
     },
     "execution_count": 9,
     "metadata": {},
     "output_type": "execute_result"
    }
   ],
   "execution_count": 9
  },
  {
   "cell_type": "code",
   "source": "\"0123456\".find('1')",
   "metadata": {
    "trusted": true,
    "ExecuteTime": {
     "end_time": "2024-03-15T12:28:24.592020Z",
     "start_time": "2024-03-15T12:28:24.590371Z"
    }
   },
   "outputs": [
    {
     "data": {
      "text/plain": "1"
     },
     "execution_count": 10,
     "metadata": {},
     "output_type": "execute_result"
    }
   ],
   "execution_count": 10
  },
  {
   "cell_type": "code",
   "source": "\"6543210\".find('1')",
   "metadata": {
    "trusted": true,
    "ExecuteTime": {
     "end_time": "2024-03-15T12:28:24.594476Z",
     "start_time": "2024-03-15T12:28:24.592485Z"
    }
   },
   "outputs": [
    {
     "data": {
      "text/plain": "5"
     },
     "execution_count": 11,
     "metadata": {},
     "output_type": "execute_result"
    }
   ],
   "execution_count": 11
  },
  {
   "cell_type": "code",
   "source": "3 + 2 * 2",
   "metadata": {
    "trusted": true,
    "ExecuteTime": {
     "end_time": "2024-03-15T12:28:24.598566Z",
     "start_time": "2024-03-15T12:28:24.596782Z"
    }
   },
   "outputs": [
    {
     "data": {
      "text/plain": "7"
     },
     "execution_count": 12,
     "metadata": {},
     "output_type": "execute_result"
    }
   ],
   "execution_count": 12
  },
  {
   "cell_type": "code",
   "source": "name = 'Lizz'\nprint(name[0:2])",
   "metadata": {
    "trusted": true,
    "ExecuteTime": {
     "end_time": "2024-03-15T12:28:24.601020Z",
     "start_time": "2024-03-15T12:28:24.599023Z"
    }
   },
   "outputs": [
    {
     "name": "stdout",
     "output_type": "stream",
     "text": [
      "Li\n"
     ]
    }
   ],
   "execution_count": 13
  },
  {
   "cell_type": "code",
   "source": "var = '01234567'\nprint(var[::2])",
   "metadata": {
    "trusted": true,
    "ExecuteTime": {
     "end_time": "2024-03-15T12:28:24.603156Z",
     "start_time": "2024-03-15T12:28:24.601485Z"
    }
   },
   "outputs": [
    {
     "name": "stdout",
     "output_type": "stream",
     "text": [
      "0246\n"
     ]
    }
   ],
   "execution_count": 14
  },
  {
   "cell_type": "code",
   "source": "'1'+'2'",
   "metadata": {
    "trusted": true,
    "ExecuteTime": {
     "end_time": "2024-03-15T12:28:24.605365Z",
     "start_time": "2024-03-15T12:28:24.603628Z"
    }
   },
   "outputs": [
    {
     "data": {
      "text/plain": "'12'"
     },
     "execution_count": 15,
     "metadata": {},
     "output_type": "execute_result"
    }
   ],
   "execution_count": 15
  },
  {
   "cell_type": "code",
   "source": "1 + 2",
   "metadata": {
    "trusted": true,
    "ExecuteTime": {
     "end_time": "2024-03-15T12:28:24.608062Z",
     "start_time": "2024-03-15T12:28:24.605852Z"
    }
   },
   "outputs": [
    {
     "data": {
      "text/plain": "3"
     },
     "execution_count": 16,
     "metadata": {},
     "output_type": "execute_result"
    }
   ],
   "execution_count": 16
  },
  {
   "cell_type": "code",
   "source": "A=(0,1,2,3)",
   "metadata": {
    "trusted": true,
    "ExecuteTime": {
     "end_time": "2024-03-15T12:28:24.610053Z",
     "start_time": "2024-03-15T12:28:24.608484Z"
    }
   },
   "outputs": [],
   "execution_count": 17
  },
  {
   "cell_type": "code",
   "source": "A[-3]",
   "metadata": {
    "trusted": true,
    "ExecuteTime": {
     "end_time": "2024-03-15T12:28:24.612409Z",
     "start_time": "2024-03-15T12:28:24.610550Z"
    }
   },
   "outputs": [
    {
     "data": {
      "text/plain": "1"
     },
     "execution_count": 18,
     "metadata": {},
     "output_type": "execute_result"
    }
   ],
   "execution_count": 18
  },
  {
   "cell_type": "code",
   "source": "A[1]",
   "metadata": {
    "trusted": true,
    "ExecuteTime": {
     "end_time": "2024-03-15T12:28:24.615075Z",
     "start_time": "2024-03-15T12:28:24.612821Z"
    }
   },
   "outputs": [
    {
     "data": {
      "text/plain": "1"
     },
     "execution_count": 19,
     "metadata": {},
     "output_type": "execute_result"
    }
   ],
   "execution_count": 19
  },
  {
   "cell_type": "code",
   "source": "A[-1]",
   "metadata": {
    "trusted": true,
    "ExecuteTime": {
     "end_time": "2024-03-15T12:28:24.618867Z",
     "start_time": "2024-03-15T12:28:24.615893Z"
    }
   },
   "outputs": [
    {
     "data": {
      "text/plain": "3"
     },
     "execution_count": 20,
     "metadata": {},
     "output_type": "execute_result"
    }
   ],
   "execution_count": 20
  },
  {
   "cell_type": "code",
   "source": "A[3]",
   "metadata": {
    "trusted": true,
    "ExecuteTime": {
     "end_time": "2024-03-15T12:28:24.621354Z",
     "start_time": "2024-03-15T12:28:24.619377Z"
    }
   },
   "outputs": [
    {
     "data": {
      "text/plain": "3"
     },
     "execution_count": 21,
     "metadata": {},
     "output_type": "execute_result"
    }
   ],
   "execution_count": 21
  },
  {
   "cell_type": "code",
   "source": "a = [1, 10, 2]",
   "metadata": {
    "trusted": true,
    "ExecuteTime": {
     "end_time": "2024-03-15T12:28:24.623246Z",
     "start_time": "2024-03-15T12:28:24.621829Z"
    }
   },
   "outputs": [],
   "execution_count": 22
  },
  {
   "cell_type": "code",
   "source": "print(a)",
   "metadata": {
    "trusted": true,
    "ExecuteTime": {
     "end_time": "2024-03-15T12:28:24.625275Z",
     "start_time": "2024-03-15T12:28:24.623816Z"
    }
   },
   "outputs": [
    {
     "name": "stdout",
     "output_type": "stream",
     "text": [
      "[1, 10, 2]\n"
     ]
    }
   ],
   "execution_count": 23
  },
  {
   "cell_type": "code",
   "source": "type(a)",
   "metadata": {
    "trusted": true,
    "ExecuteTime": {
     "end_time": "2024-03-15T12:28:24.627614Z",
     "start_time": "2024-03-15T12:28:24.625776Z"
    }
   },
   "outputs": [
    {
     "data": {
      "text/plain": "list"
     },
     "execution_count": 24,
     "metadata": {},
     "output_type": "execute_result"
    }
   ],
   "execution_count": 24
  },
  {
   "cell_type": "code",
   "source": "a[2] = 3.7",
   "metadata": {
    "trusted": true,
    "ExecuteTime": {
     "end_time": "2024-03-15T12:28:24.629356Z",
     "start_time": "2024-03-15T12:28:24.628161Z"
    }
   },
   "outputs": [],
   "execution_count": 25
  },
  {
   "cell_type": "code",
   "source": "print(a)",
   "metadata": {
    "trusted": true,
    "ExecuteTime": {
     "end_time": "2024-03-15T12:28:24.631298Z",
     "start_time": "2024-03-15T12:28:24.629787Z"
    }
   },
   "outputs": [
    {
     "name": "stdout",
     "output_type": "stream",
     "text": [
      "[1, 10, 3.7]\n"
     ]
    }
   ],
   "execution_count": 26
  },
  {
   "cell_type": "code",
   "source": "b = (1, 10, 2)",
   "metadata": {
    "trusted": true,
    "ExecuteTime": {
     "end_time": "2024-03-15T12:28:24.633489Z",
     "start_time": "2024-03-15T12:28:24.631928Z"
    }
   },
   "outputs": [],
   "execution_count": 27
  },
  {
   "cell_type": "code",
   "source": "type(b)",
   "metadata": {
    "trusted": true,
    "ExecuteTime": {
     "end_time": "2024-03-15T12:28:24.636421Z",
     "start_time": "2024-03-15T12:28:24.634011Z"
    }
   },
   "outputs": [
    {
     "data": {
      "text/plain": "tuple"
     },
     "execution_count": 28,
     "metadata": {},
     "output_type": "execute_result"
    }
   ],
   "execution_count": 28
  },
  {
   "cell_type": "code",
   "source": "b[2] = 21",
   "metadata": {
    "trusted": true,
    "ExecuteTime": {
     "end_time": "2024-03-15T12:28:24.866280Z",
     "start_time": "2024-03-15T12:28:24.637054Z"
    }
   },
   "outputs": [
    {
     "ename": "TypeError",
     "evalue": "'tuple' object does not support item assignment",
     "output_type": "error",
     "traceback": [
      "\u001B[0;31m---------------------------------------------------------------------------\u001B[0m",
      "\u001B[0;31mTypeError\u001B[0m                                 Traceback (most recent call last)",
      "Cell \u001B[0;32mIn[29], line 1\u001B[0m\n\u001B[0;32m----> 1\u001B[0m b[\u001B[38;5;241m2\u001B[39m] \u001B[38;5;241m=\u001B[39m \u001B[38;5;241m21\u001B[39m\n",
      "\u001B[0;31mTypeError\u001B[0m: 'tuple' object does not support item assignment"
     ]
    }
   ],
   "execution_count": 29
  },
  {
   "cell_type": "code",
   "source": "S={'A','B','C'}\n\nU={'A','Z','C'}\n\nU.union(S)",
   "metadata": {
    "trusted": true
   },
   "outputs": [],
   "execution_count": null
  },
  {
   "cell_type": "code",
   "source": "D = {'a':0,'b':1,'c':2}",
   "metadata": {
    "trusted": true
   },
   "outputs": [],
   "execution_count": null
  },
  {
   "cell_type": "code",
   "source": "D.values()",
   "metadata": {
    "trusted": true
   },
   "outputs": [],
   "execution_count": null
  },
  {
   "cell_type": "code",
   "source": "L = []\nL.append(['a','b'])",
   "metadata": {
    "trusted": true
   },
   "outputs": [],
   "execution_count": null
  },
  {
   "cell_type": "code",
   "source": "len(L)",
   "metadata": {
    "trusted": true
   },
   "outputs": [],
   "execution_count": null
  },
  {
   "cell_type": "code",
   "source": "L",
   "metadata": {
    "trusted": true
   },
   "outputs": [],
   "execution_count": null
  },
  {
   "cell_type": "code",
   "source": "L.append(2)",
   "metadata": {
    "trusted": true
   },
   "outputs": [],
   "execution_count": null
  },
  {
   "cell_type": "code",
   "source": "L",
   "metadata": {
    "trusted": true
   },
   "outputs": [],
   "execution_count": null
  },
  {
   "cell_type": "code",
   "source": "len(L)",
   "metadata": {
    "trusted": true
   },
   "outputs": [],
   "execution_count": null
  },
  {
   "cell_type": "code",
   "source": "",
   "metadata": {
    "trusted": true
   },
   "outputs": [],
   "execution_count": null
  }
 ]
}
