{
 "cells": [
  {
   "cell_type": "markdown",
   "metadata": {
    "id": "HGr7oTX2a7rm"
   },
   "source": [
    "# Assignment 1"
   ]
  },
  {
   "cell_type": "markdown",
   "metadata": {
    "id": "ZfTqYG-ea7rp"
   },
   "source": [
    "Nama : Sumarli   \n",
    "Mentor Name : Lutfi Syarifullah"
   ]
  },
  {
   "cell_type": "markdown",
   "metadata": {
    "id": "ptsXbnzna7rq"
   },
   "source": [
    "## Soal 1 : Triangle Pattern Programs in Python"
   ]
  },
  {
   "cell_type": "markdown",
   "metadata": {
    "id": "U5LqftFsa7rq"
   },
   "source": [
    "Kerjakan pada fungsi segitiga dibawah ini untuk membuat pola output sebagai berikut\n",
    "\n",
    "CASE 1\n",
    "\n",
    "INPUT    \n",
    "panjang = 3      \n",
    "sudutSegitiga = 'kiri'   \n",
    "\n",
    "OUPUT   \n",
    "```\n",
    "*  \n",
    "**\n",
    "***\n",
    "```\n",
    "\n",
    "\n",
    "CASE 2\n",
    "\n",
    "INPUT    \n",
    "panjang = 4     \n",
    "sudutSegitiga = 'kanan'   \n",
    "\n",
    "OUPUT   \n",
    "```\n",
    "   *\n",
    "  **\n",
    " ***\n",
    "****\n",
    "```"
   ]
  },
  {
   "cell_type": "code",
   "execution_count": null,
   "metadata": {
    "colab": {
     "base_uri": "https://localhost:8080/"
    },
    "id": "WNx3w9bFa7rr",
    "executionInfo": {
     "status": "ok",
     "timestamp": 1710345767354,
     "user_tz": -420,
     "elapsed": 10,
     "user": {
      "displayName": "Marli Sumarli",
      "userId": "18099729513332135187"
     }
    },
    "outputId": "6618c9ab-7ac3-45b2-d4b1-989eb1839842"
   },
   "outputs": [
    {
     "output_type": "stream",
     "name": "stdout",
     "text": [
      "****\n",
      "***\n",
      "**\n",
      "*\n",
      "*\n",
      "**\n",
      "***\n",
      "****\n"
     ]
    }
   ],
   "source": [
    "def segitiga(panjang, sudutSegitiga):\n",
    "  if (sudutSegitiga == 'kanan'):\n",
    "    for i in range(panjang):\n",
    "      for j in range(i+1):\n",
    "        print(\"*\", end=\"\")\n",
    "      print()\n",
    "  else:\n",
    "    for i in range(panjang):\n",
    "      for j in range(panjang-i):\n",
    "        print(\"*\", end=\"\")\n",
    "      print()\n",
    "\n",
    "# Case 1\n",
    "segitiga(4, 'kiri')\n",
    "\n",
    "# Case 2\n",
    "# Kerjakan setelah berhasil membuat case 1\n",
    "segitiga(4, 'kanan')"
   ]
  },
  {
   "cell_type": "markdown",
   "metadata": {
    "id": "D-NC-X3Fa7rs"
   },
   "source": [
    "## Soal 2 : Filter Data and Save to CSV File"
   ]
  },
  {
   "cell_type": "markdown",
   "metadata": {
    "id": "TQFSzhsxa7rs"
   },
   "source": [
    "Kerjakan fungsi filterCharacters dengan menghasilkan data dengan status True pada csv (result.csv).   \n",
    "\n",
    "\n",
    "Note kamu cukup kumpulkan file ipynb ini saja."
   ]
  },
  {
   "cell_type": "code",
   "execution_count": 35,
   "metadata": {
    "id": "0DpyPKoza7rt",
    "executionInfo": {
     "status": "ok",
     "timestamp": 1710381118855,
     "user_tz": -420,
     "elapsed": 4657,
     "user": {
      "displayName": "Marli Sumarli",
      "userId": "18099729513332135187"
     }
    },
    "colab": {
     "base_uri": "https://localhost:8080/"
    },
    "outputId": "3f8df53f-7456-44f7-9fdf-c703cccfcdbe",
    "ExecuteTime": {
     "end_time": "2024-03-15T14:22:39.689605Z",
     "start_time": "2024-03-15T14:22:39.677548Z"
    }
   },
   "outputs": [],
   "source": [
    "# Jalankan line ini jika pada PC mu belum terinstall pandas\n",
    "# pip install pandas\n",
    "\n",
    "import csv\n",
    "# from google.colab import drive\n",
    "# drive.mount('/content/drive')"
   ]
  },
  {
   "cell_type": "code",
   "execution_count": 39,
   "metadata": {
    "id": "vKRM1PXea7rt",
    "executionInfo": {
     "status": "ok",
     "timestamp": 1710381451098,
     "user_tz": -420,
     "elapsed": 475,
     "user": {
      "displayName": "Marli Sumarli",
      "userId": "18099729513332135187"
     }
    },
    "colab": {
     "base_uri": "https://localhost:8080/"
    },
    "outputId": "452afc8b-460c-430c-a1e7-2ff4aa3d1378",
    "ExecuteTime": {
     "end_time": "2024-03-15T14:33:38.409416Z",
     "start_time": "2024-03-15T14:33:38.403223Z"
    }
   },
   "outputs": [],
   "source": [
    "def filterCharacters():\n",
    "  data = [\n",
    "    {\"name\": \"Luffy\", \"age\": 19, \"status\": True},\n",
    "    {\"name\": \"Nami\", \"age\": 20, \"status\": False},\n",
    "    {\"name\": \"Usopp\", \"age\": 19, \"status\": False},\n",
    "    {\"name\": \"Zoro\", \"age\": 21, \"status\": False},\n",
    "    {\"name\": \"Chopper\", \"age\": 19, \"status\": True},\n",
    "    {\"name\": \"Sanji\", \"age\": 21, \"status\": False},\n",
    "    {\"name\": \"Robin\", \"age\": 30, \"status\": True}\n",
    "  ]\n",
    "  # silahkan filter data yang memiliki status True\n",
    "  # dengan menggunakan looping / lambda function (dibebaskan)\n",
    "\n",
    "  new_data = []\n",
    "  for i in range(len(data)):\n",
    "    if data[i]['status'] == True:\n",
    "      new_data.append(data[i])\n",
    "\n",
    "  return new_data\n",
    "\n",
    "  # setelah berhasil filter simpan datanya menjadi csv, simpan ke file result.csv\n"
   ]
  },
  {
   "cell_type": "code",
   "source": [
    "csv_file_path = 'result.csv'\n",
    "\n",
    "data = filterCharacters()\n",
    "with open(csv_file_path, mode='w', newline='') as file:\n",
    "    writer = csv.DictWriter(file, fieldnames=data[0].keys())\n",
    "    writer.writeheader()\n",
    "    writer.writerows(data)\n",
    "\n",
    "print(f'Data has been written to {csv_file_path}')"
   ],
   "metadata": {
    "colab": {
     "base_uri": "https://localhost:8080/"
    },
    "id": "V7j4lMbQqIRF",
    "executionInfo": {
     "status": "ok",
     "timestamp": 1710381697088,
     "user_tz": -420,
     "elapsed": 433,
     "user": {
      "displayName": "Marli Sumarli",
      "userId": "18099729513332135187"
     }
    },
    "outputId": "f3a3fecd-0191-4aa7-8167-69bd39a4860f",
    "ExecuteTime": {
     "end_time": "2024-03-15T14:33:49.121883Z",
     "start_time": "2024-03-15T14:33:49.111741Z"
    }
   },
   "execution_count": 40,
   "outputs": [
    {
     "name": "stdout",
     "output_type": "stream",
     "text": [
      "Data has been written to result.csv\n"
     ]
    }
   ]
  },
  {
   "cell_type": "code",
   "execution_count": 17,
   "metadata": {
    "id": "o8rtGefPa7rt",
    "colab": {
     "base_uri": "https://localhost:8080/",
     "height": 216
    },
    "executionInfo": {
     "status": "error",
     "timestamp": 1710384312039,
     "user_tz": -420,
     "elapsed": 556,
     "user": {
      "displayName": "Marli Sumarli",
      "userId": "18099729513332135187"
     }
    },
    "outputId": "80536354-3e09-4f61-f853-7021312263b3",
    "ExecuteTime": {
     "end_time": "2024-03-15T12:34:56.443596Z",
     "start_time": "2024-03-15T12:34:56.433266Z"
    }
   },
   "outputs": [
    {
     "name": "stdout",
     "output_type": "stream",
     "text": [
      "Hello, World!\n"
     ]
    }
   ],
   "source": [
    "# Membaca isi file\n",
    "with open('data.txt', 'r') as file:\n",
    "    data = file.read()\n",
    "    print(data)"
   ]
  },
  {
   "cell_type": "code",
   "outputs": [],
   "source": [
    "# Menulis ke dalam file\n",
    "with open('data.txt', 'w') as file:\n",
    "    file.write('Hello, World!')"
   ],
   "metadata": {
    "collapsed": false
   }
  },
  {
   "cell_type": "code",
   "execution_count": 38,
   "metadata": {
    "id": "gng2XikYa7ru",
    "colab": {
     "base_uri": "https://localhost:8080/",
     "height": 365
    },
    "executionInfo": {
     "status": "error",
     "timestamp": 1710384324825,
     "user_tz": -420,
     "elapsed": 540,
     "user": {
      "displayName": "Marli Sumarli",
      "userId": "18099729513332135187"
     }
    },
    "outputId": "420d7ef6-b3ea-471a-87c9-0ac7edbc9076",
    "ExecuteTime": {
     "end_time": "2024-03-15T14:33:12.211234Z",
     "start_time": "2024-03-15T14:33:12.175902Z"
    }
   },
   "outputs": [
    {
     "name": "stdout",
     "output_type": "stream",
     "text": [
      "      name  age  status\n",
      "0    Luffy   19    True\n",
      "1  Chopper   19    True\n",
      "2    Robin   30    True\n"
     ]
    }
   ],
   "source": [
    "import pandas as pd\n",
    "\n",
    "# Membaca file CSV ke dalam DataFrame\n",
    "# with pd.read_csv('data.csv') as df:\n",
    "#     print(df.head())\n",
    "\n",
    "df = pd.read_csv('data.csv')\n",
    "print(df.head())"
   ]
  },
  {
   "cell_type": "code",
   "outputs": [
    {
     "name": "stdout",
     "output_type": "stream",
     "text": [
      "Data telah disimpan ke dalam file CSV.\n"
     ]
    }
   ],
   "source": [
    "# Menulis DataFrame ke dalam file CSV\n",
    "data = {'Nama': ['John', 'Anna', 'Peter', 'Linda'],\n",
    "        'Usia': [28, 34, 29, 42]}\n",
    "df = pd.DataFrame(data)\n",
    "df.to_csv('data.csv', index=False)\n",
    "print(\"Data telah disimpan ke dalam file CSV.\")"
   ],
   "metadata": {
    "collapsed": false,
    "ExecuteTime": {
     "end_time": "2024-03-15T14:18:40.011748Z",
     "start_time": "2024-03-15T14:18:39.991069Z"
    }
   },
   "execution_count": 32
  },
  {
   "cell_type": "code",
   "outputs": [],
   "source": [],
   "metadata": {
    "collapsed": false
   }
  }
 ],
 "metadata": {
  "kernelspec": {
   "display_name": "Python 3",
   "language": "python",
   "name": "python3"
  },
  "language_info": {
   "codemirror_mode": {
    "name": "ipython",
    "version": 3
   },
   "file_extension": ".py",
   "mimetype": "text/x-python",
   "name": "python",
   "nbconvert_exporter": "python",
   "pygments_lexer": "ipython3",
   "version": "3.11.5"
  },
  "colab": {
   "provenance": []
  }
 },
 "nbformat": 4,
 "nbformat_minor": 0
}
