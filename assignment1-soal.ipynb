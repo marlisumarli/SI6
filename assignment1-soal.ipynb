{
 "cells": [
  {
   "cell_type": "markdown",
   "metadata": {},
   "source": [
    "# Assignment 1"
   ]
  },
  {
   "cell_type": "markdown",
   "metadata": {},
   "source": [
    "Nama : .........   \n",
    "Mentor Name : .......  "
   ]
  },
  {
   "cell_type": "markdown",
   "metadata": {},
   "source": [
    "## Soal 1 : Triangle Pattern Programs in Python"
   ]
  },
  {
   "cell_type": "markdown",
   "metadata": {},
   "source": [
    "Kerjakan pada fungsi segitiga dibawah ini untuk membuat pola output sebagai berikut \n",
    "\n",
    "CASE 1\n",
    "\n",
    "INPUT    \n",
    "panjang = 3      \n",
    "sudutSegitiga = 'kiri'   \n",
    "\n",
    "OUPUT   \n",
    "```\n",
    "*  \n",
    "** \n",
    "***\n",
    "```\n",
    "\n",
    "\n",
    "CASE 2 \n",
    "\n",
    "INPUT    \n",
    "panjang = 4     \n",
    "sudutSegitiga = 'kanan'   \n",
    "\n",
    "OUPUT   \n",
    "```\n",
    "   *\n",
    "  **\n",
    " ***\n",
    "****\n",
    "```"
   ]
  },
  {
   "cell_type": "code",
   "execution_count": null,
   "metadata": {},
   "outputs": [],
   "source": [
    "def segitiga(panjang, sudutSegitiga):\n",
    "  # silahkan koding disini\n",
    "  # ----\n",
    "  print(panjang, sudutSegitiga)\n",
    "\n",
    "\n",
    "# Case 1\n",
    "segitiga(3, 'kiri')\n",
    "\n",
    "# Case 2 \n",
    "# Kerjakan setelah berhasil membuat case 1\n",
    "# segitiga(4, 'kanan')"
   ]
  },
  {
   "cell_type": "markdown",
   "metadata": {},
   "source": [
    "## Soal 2 : Filter Data and Save to CSV File"
   ]
  },
  {
   "cell_type": "markdown",
   "metadata": {},
   "source": [
    "Kerjakan fungsi filterCharacters dengan menghasilkan data dengan status True pada csv (result.csv).   \n",
    "\n",
    "\n",
    "Note kamu cukup kumpulkan file ipynb ini saja."
   ]
  },
  {
   "cell_type": "code",
   "execution_count": null,
   "metadata": {},
   "outputs": [],
   "source": [
    "# Jalankan line ini jika pada PC mu belum terinstall pandas\n",
    "pip install pandas"
   ]
  },
  {
   "cell_type": "code",
   "execution_count": null,
   "metadata": {},
   "outputs": [],
   "source": [
    "import pandas as pd \n",
    "\n",
    "def filterCharacters():\n",
    "  data = [\n",
    "    {\"name\": \"Luffy\", \"age\": 19, \"status\": True},\n",
    "    {\"name\": \"Nami\", \"age\": 20, \"status\": False},\n",
    "    {\"name\": \"Usopp\", \"age\": 19, \"status\": False},\n",
    "    {\"name\": \"Zoro\", \"age\": 21, \"status\": False},\n",
    "    {\"name\": \"Chopper\", \"age\": 19, \"status\": True},\n",
    "    {\"name\": \"Sanji\", \"age\": 21, \"status\": False},\n",
    "    {\"name\": \"Robin\", \"age\": 30, \"status\": True}\n",
    "  ]\n",
    "  # silahkan filter data yang memiliki status True\n",
    "  # dengan menggunakan looping / lambda function (dibebaskan)\n",
    "\n",
    "  # setelah berhasil filter simpan datanya menjadi csv, simpan ke file result.csv\n",
    "  \n",
    "\n",
    "filterCharacters()"
   ]
  },
  {
   "cell_type": "code",
   "execution_count": null,
   "metadata": {},
   "outputs": [],
   "source": [
    "# Membaca isi file\n",
    "with open('data.txt', 'r') as file:\n",
    "    data = file.read()\n",
    "    print(data)\n",
    "\n",
    "# Menulis ke dalam file\n",
    "with open('data.txt', 'w') as file:\n",
    "    file.write('Hello, World!')"
   ]
  },
  {
   "cell_type": "code",
   "execution_count": null,
   "metadata": {},
   "outputs": [],
   "source": [
    "import pandas as pd\n",
    "\n",
    "# Membaca file CSV ke dalam DataFrame\n",
    "with pd.read_csv('data.csv') as df:\n",
    "    print(df.head())\n",
    "\n",
    "# Menulis DataFrame ke dalam file CSV\n",
    "data = {'Nama': ['John', 'Anna', 'Peter', 'Linda'],\n",
    "        'Usia': [28, 34, 29, 42]}\n",
    "df = pd.DataFrame(data)\n",
    "with df.to_csv('data.csv', index=False):\n",
    "    print(\"Data telah disimpan ke dalam file CSV.\")\n"
   ]
  }
 ],
 "metadata": {
  "kernelspec": {
   "display_name": "Python 3",
   "language": "python",
   "name": "python3"
  },
  "language_info": {
   "codemirror_mode": {
    "name": "ipython",
    "version": 3
   },
   "file_extension": ".py",
   "mimetype": "text/x-python",
   "name": "python",
   "nbconvert_exporter": "python",
   "pygments_lexer": "ipython3",
   "version": "3.11.5"
  }
 },
 "nbformat": 4,
 "nbformat_minor": 2
}
