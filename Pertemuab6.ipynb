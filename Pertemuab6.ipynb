{
 "nbformat": 4,
 "nbformat_minor": 0,
 "metadata": {
  "colab": {
   "provenance": [],
   "authorship_tag": "ABX9TyOu0RU8A8d3KpgUnWOF93hP"
  },
  "kernelspec": {
   "name": "python3",
   "language": "python",
   "display_name": "Python 3 (ipykernel)"
  },
  "language_info": {
   "name": "python"
  }
 },
 "cells": [
  {
   "cell_type": "code",
   "source": [
    "class Circle(object):\n",
    "  def __init__(self, radius, color):\n",
    "    self.radius = radius;\n",
    "    self.color = color;\n",
    "\n",
    "  def add_radius(self, r):\n",
    "    self.radius = self.radius + r"
   ],
   "metadata": {
    "id": "8meRnwBKCHwj",
    "ExecuteTime": {
     "end_time": "2024-03-15T12:21:38.165374Z",
     "start_time": "2024-03-15T12:21:38.163604Z"
    }
   },
   "execution_count": 1,
   "outputs": []
  },
  {
   "cell_type": "code",
   "source": [
    "CircleObj = Circle(12, 'red')\n",
    "\n",
    "CircleObj.add_radius(3)\n",
    "print(CircleObj.radius)"
   ],
   "metadata": {
    "id": "0i6uyGTkCPB_"
   },
   "execution_count": null,
   "outputs": []
  },
  {
   "cell_type": "code",
   "source": [
    "dir(CircleObj)"
   ],
   "metadata": {
    "id": "p0V4XSN9CPo1"
   },
   "execution_count": null,
   "outputs": []
  },
  {
   "cell_type": "code",
   "execution_count": 2,
   "metadata": {
    "id": "MYq-SW72xF_s",
    "executionInfo": {
     "status": "ok",
     "timestamp": 1710487684811,
     "user_tz": -420,
     "elapsed": 1832,
     "user": {
      "displayName": "Marli Sumarli",
      "userId": "18099729513332135187"
     }
    },
    "ExecuteTime": {
     "end_time": "2024-03-15T12:25:39.998202Z",
     "start_time": "2024-03-15T12:25:39.977853Z"
    }
   },
   "outputs": [],
   "source": [
    "import seaborn as sns\n",
    "import pandas as pd"
   ]
  },
  {
   "cell_type": "code",
   "source": [
    "df = sns.load_dataset('tips')\n",
    "df.head()"
   ],
   "metadata": {
    "colab": {
     "base_uri": "https://localhost:8080/",
     "height": 206
    },
    "id": "Re-2m4b7xnqZ",
    "executionInfo": {
     "status": "ok",
     "timestamp": 1710487723462,
     "user_tz": -420,
     "elapsed": 7,
     "user": {
      "displayName": "Marli Sumarli",
      "userId": "18099729513332135187"
     }
    },
    "outputId": "77a0e7d7-1df8-4c7f-f430-e158318142a3",
    "ExecuteTime": {
     "end_time": "2024-03-15T12:25:58.658876Z",
     "start_time": "2024-03-15T12:25:56.157782Z"
    }
   },
   "execution_count": 3,
   "outputs": [
    {
     "data": {
      "text/plain": "   total_bill   tip     sex smoker  day    time  size\n0       16.99  1.01  Female     No  Sun  Dinner     2\n1       10.34  1.66    Male     No  Sun  Dinner     3\n2       21.01  3.50    Male     No  Sun  Dinner     3\n3       23.68  3.31    Male     No  Sun  Dinner     2\n4       24.59  3.61  Female     No  Sun  Dinner     4",
      "text/html": "<div>\n<style scoped>\n    .dataframe tbody tr th:only-of-type {\n        vertical-align: middle;\n    }\n\n    .dataframe tbody tr th {\n        vertical-align: top;\n    }\n\n    .dataframe thead th {\n        text-align: right;\n    }\n</style>\n<table border=\"1\" class=\"dataframe\">\n  <thead>\n    <tr style=\"text-align: right;\">\n      <th></th>\n      <th>total_bill</th>\n      <th>tip</th>\n      <th>sex</th>\n      <th>smoker</th>\n      <th>day</th>\n      <th>time</th>\n      <th>size</th>\n    </tr>\n  </thead>\n  <tbody>\n    <tr>\n      <th>0</th>\n      <td>16.99</td>\n      <td>1.01</td>\n      <td>Female</td>\n      <td>No</td>\n      <td>Sun</td>\n      <td>Dinner</td>\n      <td>2</td>\n    </tr>\n    <tr>\n      <th>1</th>\n      <td>10.34</td>\n      <td>1.66</td>\n      <td>Male</td>\n      <td>No</td>\n      <td>Sun</td>\n      <td>Dinner</td>\n      <td>3</td>\n    </tr>\n    <tr>\n      <th>2</th>\n      <td>21.01</td>\n      <td>3.50</td>\n      <td>Male</td>\n      <td>No</td>\n      <td>Sun</td>\n      <td>Dinner</td>\n      <td>3</td>\n    </tr>\n    <tr>\n      <th>3</th>\n      <td>23.68</td>\n      <td>3.31</td>\n      <td>Male</td>\n      <td>No</td>\n      <td>Sun</td>\n      <td>Dinner</td>\n      <td>2</td>\n    </tr>\n    <tr>\n      <th>4</th>\n      <td>24.59</td>\n      <td>3.61</td>\n      <td>Female</td>\n      <td>No</td>\n      <td>Sun</td>\n      <td>Dinner</td>\n      <td>4</td>\n    </tr>\n  </tbody>\n</table>\n</div>"
     },
     "execution_count": 3,
     "metadata": {},
     "output_type": "execute_result"
    }
   ]
  },
  {
   "cell_type": "code",
   "source": [
    "df.iloc[1, 0]"
   ],
   "metadata": {
    "colab": {
     "base_uri": "https://localhost:8080/"
    },
    "id": "jkmvJofkykio",
    "executionInfo": {
     "status": "ok",
     "timestamp": 1710484045507,
     "user_tz": -420,
     "elapsed": 4,
     "user": {
      "displayName": "Marli Sumarli",
      "userId": "18099729513332135187"
     }
    },
    "outputId": "deb31920-f04f-48ec-e7b8-ed1819e64828"
   },
   "execution_count": null,
   "outputs": [
    {
     "output_type": "execute_result",
     "data": {
      "text/plain": [
       "10.34"
      ]
     },
     "metadata": {},
     "execution_count": 13
    }
   ]
  },
  {
   "cell_type": "code",
   "source": [
    "with open(\"Example3.txt\",\"w\") as file1:\n",
    "  file1.write(\"This is line A\\n\")"
   ],
   "metadata": {
    "id": "u5EJOMag_YZo",
    "executionInfo": {
     "status": "ok",
     "timestamp": 1710487533238,
     "user_tz": -420,
     "elapsed": 306,
     "user": {
      "displayName": "Marli Sumarli",
      "userId": "18099729513332135187"
     }
    }
   },
   "execution_count": 7,
   "outputs": []
  }
 ]
}
